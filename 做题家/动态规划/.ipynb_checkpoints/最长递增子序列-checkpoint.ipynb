{
 "cells": [
  {
   "cell_type": "markdown",
   "id": "following-globe",
   "metadata": {},
   "source": [
    "<h4 class=\"css-10c1h40-Title eugt34i1\" style=\"box-sizing: border-box; margin: 0px; color: #262626; font-weight: 500; padding: 0px; line-height: 16px; font-family: -apple-system, BlinkMacSystemFont, 'Segoe UI', Roboto, 'Helvetica Neue', Arial, 'Noto Sans', sans-serif, 'Apple Color Emoji', 'Segoe UI Emoji', 'Segoe UI Symbol', 'Noto Color Emoji'; font-size: 14px; font-style: normal; font-variant-ligatures: normal; font-variant-caps: normal; letter-spacing: normal; orphans: 2; text-align: start; text-indent: 0px; text-transform: none; white-space: normal; widows: 2; word-spacing: 0px; -webkit-text-stroke-width: 0px; background-color: #ffffff; text-decoration-style: initial; text-decoration-color: initial;\" data-cypress=\"QuestionTitle\"><a style=\"box-sizing: border-box; color: rgba(var(--grey-8-rgb), 1); text-decoration: none; background-color: transparent; outline: none; cursor: pointer; transition: color 0.3s; touch-action: manipulation; overflow: hidden; text-overflow: ellipsis; white-space: pre;\" href=\"https://leetcode-cn.com/problems/longest-increasing-subsequence/\">300. 最长递增子序列</a></h4>\n",
    "<p>给你一个整数数组 nums ，找到其中最长严格递增子序列的长度。<br /><br />子序列是由数组派生而来的序列，删除（或不删除）数组中的元素而不改变其余元素的顺序。例如，[3,6,2,7] 是数组 [0,3,1,6,2,2,7] 的子序列。<br /><br />&nbsp;<br />示例 1：<br /><br />输入：nums = [10,9,2,5,3,7,101,18]<br />输出：4<br />解释：最长递增子序列是 [2,3,7,101]，因此长度为 4 。<br />示例 2：<br /><br />输入：nums = [0,1,0,3,2,3]<br />输出：4<br />示例 3：<br /><br />输入：nums = [7,7,7,7,7,7,7]<br />输出：1</p>"
   ]
  },
  {
   "cell_type": "markdown",
   "id": "junior-residence",
   "metadata": {},
   "source": [
    "<h5>备忘录</h5>\n",
    "<p>画出递归树，很明显有重复子问题。这个时候可以通过备忘录的方式得出答案。</p>"
   ]
  },
  {
   "cell_type": "code",
   "execution_count": null,
   "id": "beginning-spider",
   "metadata": {},
   "outputs": [],
   "source": [
    "class Solution:\n",
    "    def lengthOfLIS(self, nums: List[int],start = 0) -> int:\n",
    "        if nums is none or len(nums) == 0:\n",
    "            return 0\n",
    "    \n",
    "    def solution(self):\n",
    "        pass"
   ]
  }
 ],
 "metadata": {
  "kernelspec": {
   "display_name": "Python 3",
   "language": "python",
   "name": "python3"
  },
  "language_info": {
   "codemirror_mode": {
    "name": "ipython",
    "version": 3
   },
   "file_extension": ".py",
   "mimetype": "text/x-python",
   "name": "python",
   "nbconvert_exporter": "python",
   "pygments_lexer": "ipython3",
   "version": "3.9.0"
  },
  "toc": {
   "base_numbering": 1,
   "nav_menu": {},
   "number_sections": true,
   "sideBar": true,
   "skip_h1_title": false,
   "title_cell": "Table of Contents",
   "title_sidebar": "Contents",
   "toc_cell": false,
   "toc_position": {},
   "toc_section_display": true,
   "toc_window_display": false
  }
 },
 "nbformat": 4,
 "nbformat_minor": 5
}
