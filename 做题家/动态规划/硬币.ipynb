{
 "cells": [
  {
   "cell_type": "markdown",
   "id": "improved-replication",
   "metadata": {},
   "source": [
    "<h5 id=\"1&nbsp;&nbsp;面试题-08.11.-硬币\" class=\"css-10c1h40-Title eugt34i1\" style=\"box-sizing: border-box; margin: 0px; color: #262626; font-weight: 500; padding: 0px; line-height: 16px; font-family: , 'blinkmacsystemfont' , 'segoe ui' , 'roboto' , 'helvetica neue' , 'arial' , 'noto sans' , sans-serif , 'apple color emoji' , 'segoe ui emoji' , 'segoe ui symbol' , 'noto color emoji'; font-size: 14px; font-style: normal; letter-spacing: normal; text-indent: 0px; text-transform: none; white-space: normal; word-spacing: 0px; background-color: #ffffff;\" data-cypress=\"QuestionTitle\" data-toc-modified-id=\"1&nbsp;&nbsp;面试题-08.11.-硬币-1\"><a id=\"1&nbsp;&nbsp;面试题-08.11.-硬币-1\" class=\"toc-mod-link\"></a><span class=\"toc-item-num\">1&nbsp;&nbsp;</span><a style=\"box-sizing: border-box; color: rgba(, 1); text-decoration: none; background-color: transparent; outline: none; cursor: pointer; transition: color 0.3s; overflow: hidden; text-overflow: ellipsis; white-space: pre;\" href=\"https://leetcode-cn.com/problems/coin-lcci/\" target=\"_blank\" rel=\"noopener\">面试题 08.11. 硬币</a></h5>\n",
    "<p>给定数量不限的硬币，币值为25分、10分、5分和1分，编写代码计算n分有几种表示法。(结果可能会很大，你需要将结果模上1000000007)<br /><br />示例1:<br /><br />&nbsp;输入: n = 5<br />&nbsp;输出：2<br />&nbsp;解释: 有两种方式可以凑成总金额:<br />5=5<br />5=1+1+1+1+1<br />示例2:<br /><br />&nbsp;输入: n = 10<br />&nbsp;输出：4<br />&nbsp;解释: 有四种方式可以凑成总金额:<br />10=10<br />10=5+5<br />10=5+1+1+1+1+1<br />10=1+1+1+1+1+1+1+1+1+1</p>\n",
    "<h6 id=\"递归解法\" data-toc-modified-id=\"递归解法-2\">递归解法</h6>"
   ]
  },
  {
   "cell_type": "code",
   "execution_count": 23,
   "id": "reliable-siemens",
   "metadata": {},
   "outputs": [
    {
     "name": "stdout",
     "output_type": "stream",
     "text": [
      "please input num:852\n",
      "88537\n"
     ]
    }
   ],
   "source": [
    "class Solution:\n",
    "    def __init__(self):\n",
    "        self.count = 0\n",
    "        self.coins = [1, 5, 10, 25]\n",
    "\n",
    "    def waysToChange(self, n: int, last=-1) -> int:\n",
    "        if n < 0:\n",
    "            return self.count\n",
    "        if n == 0:\n",
    "            self.count += 1\n",
    "            return self.count\n",
    "        for i in range(0, len(self.coins)):\n",
    "            if self.coins[i] > n or i < last:\n",
    "                continue\n",
    "            self.waysToChange(n - self.coins[i], i)\n",
    "        return self.count\n",
    "\n",
    "\n",
    "num = input(\"please input num:\")\n",
    "result = Solution().waysToChange(int(num))\n",
    "print(result)"
   ]
  },
  {
   "cell_type": "markdown",
   "id": "violent-allah",
   "metadata": {},
   "source": [
    "<p>当输入852的时候，很明显感觉到速度变得很慢了。其实还是有很多的子运算，可以用本子画一下递归树。</p>\n",
    "<p>下面通过备忘录来优化一下。</p>\n",
    "<h6>备忘录解法</h6>"
   ]
  },
  {
   "cell_type": "code",
   "execution_count": 28,
   "id": "responsible-software",
   "metadata": {},
   "outputs": [
    {
     "name": "stdout",
     "output_type": "stream",
     "text": [
      "please input num:15\n",
      "6\n"
     ]
    }
   ],
   "source": [
    "class Solution:\n",
    "    def __init__(self):\n",
    "        self.count = 0\n",
    "        self.coins = [1, 5, 10, 25]\n",
    "\n",
    "    def get_result(self, n: int, last=-1, my_dict=dict()) -> int:\n",
    "        if n < 0:\n",
    "            return 0\n",
    "        key = str(n) + \"-\" + str(last)\n",
    "        if key in my_dict:\n",
    "            self.count += my_dict[key]\n",
    "            return my_dict[key]\n",
    "        if n == 0:\n",
    "            self.count += 1\n",
    "            return 1\n",
    "        sum = 0\n",
    "        for i in range(0, len(self.coins)):\n",
    "            if self.coins[i] > n or i < last:\n",
    "                continue\n",
    "            sum += self.get_result(n - self.coins[i], i, my_dict)\n",
    "        my_dict[key] = sum\n",
    "        return my_dict[key]\n",
    "    \n",
    "    def waysToChange(self,n):\n",
    "        self.get_result(n)\n",
    "        return self.count\n",
    "\n",
    "\n",
    "num = input(\"please input num:\")\n",
    "solution = Solution()\n",
    "\n",
    "print(solution.waysToChange(int(num)))"
   ]
  },
  {
   "cell_type": "markdown",
   "id": "geological-aruba",
   "metadata": {},
   "source": [
    "<p>备忘录模板。1，递归返回的是备忘录中的值 ；2，进入递归时要判断是否在备忘录中，是的话则直接返回，否则走之后的代码。</p>\n",
    "<p>当输入900750的时候，会提示已经超出了递归最大深度。显然，得使用动态规划来解此题。动态规划可以将递归转成循环。</p>\n",
    "<h6>动态规划</h6>"
   ]
  },
  {
   "cell_type": "code",
   "execution_count": 29,
   "id": "protective-cathedral",
   "metadata": {},
   "outputs": [
    {
     "name": "stdout",
     "output_type": "stream",
     "text": [
      "please input num:900750\n",
      "504188296\n"
     ]
    }
   ],
   "source": [
    "class Solution:\n",
    "    \n",
    "    def waysToChange(self,n):\n",
    "        result = [0 for i in range(0,n+1)]\n",
    "        result[0] = 1\n",
    "        for i in [1,5,10,25]:\n",
    "            for j in range(i,n+1):\n",
    "                result[j] = (result[j] + result[j-i]) % 1000000007\n",
    "        return result[n]\n",
    "\n",
    "\n",
    "num = input(\"please input num:\")\n",
    "solution = Solution()\n",
    "\n",
    "print(solution.waysToChange(int(num)))"
   ]
  },
  {
   "cell_type": "markdown",
   "id": "associate-candidate",
   "metadata": {},
   "source": [
    "<p>通过上述动态规划就能快速得到结果了。</p>\n",
    "<h6 id=\"总结\" data-toc-modified-id=\"总结-1.4\"><a id=\"总结-1.4\" class=\"toc-mod-link\"></a><span class=\"toc-item-num\">1.4&nbsp;&nbsp;</span>总结</h6>\n",
    "<p data-toc-modified-id=\"总结:之后做这类题的时候，如果存在子问题计算，应该先完成备忘录的写法。等推导出动态转移方程时，再转换为动态规划。目前积累了一种动态方程转动态规划的模板。-1.4\">之后做这类题的时候，如果存在子问题计算，应该先完成备忘录的写法。等推导出动态转移方程时，再转换为动态规划。目前积累了一种动态方程转动态规划的模板。</p>\n",
    "<p>备忘录中出现for循环。动态规划for循环外置，里面的for循环中用动态转移方程。</p>\n",
    "<p style=\"padding-left: 40px;\"><code>       sum = 0<br />        for i in range(0, len(self.coins)):<br />            if self.coins[i] &gt; n or i &lt; last:<br />                continue<br />            sum += self.get_result(n - self.coins[i], i, my_dict)<br />        my_dict[key] = sum<br />        return my_dict[key]</code></p>\n",
    "<p>动态规划</p>\n",
    "<p>&nbsp;</p>\n",
    "<p style=\"padding-left: 40px;\"><code>def waysToChange(self,n):</code><br /><code>&nbsp;&nbsp;&nbsp;&nbsp;&nbsp;&nbsp;&nbsp; result = [0 for i in range(0,n+1)]</code><br /><code>&nbsp;&nbsp;&nbsp;&nbsp;&nbsp;&nbsp;&nbsp; result[0] = 1</code><br /><code>&nbsp;&nbsp;&nbsp;&nbsp;&nbsp;&nbsp;&nbsp; for i in [1,5,10,25]:</code><br /><code>&nbsp;&nbsp;&nbsp;&nbsp;&nbsp;&nbsp;&nbsp;&nbsp;&nbsp;&nbsp;&nbsp; for j in range(i,n+1):</code><br /><code>&nbsp;&nbsp;&nbsp;&nbsp;&nbsp;&nbsp;&nbsp;&nbsp;&nbsp;&nbsp;&nbsp;&nbsp;&nbsp;&nbsp;&nbsp; result[j] = (result[j] + result[j-i]) % 1000000007</code><br /><code>&nbsp;&nbsp;&nbsp;&nbsp;&nbsp;&nbsp;&nbsp; return result[n]</code></p>"
   ]
  }
 ],
 "metadata": {
  "kernelspec": {
   "display_name": "Python 3",
   "language": "python",
   "name": "python3"
  },
  "language_info": {
   "codemirror_mode": {
    "name": "ipython",
    "version": 3
   },
   "file_extension": ".py",
   "mimetype": "text/x-python",
   "name": "python",
   "nbconvert_exporter": "python",
   "pygments_lexer": "ipython3",
   "version": "3.9.0"
  },
  "toc": {
   "base_numbering": 1,
   "nav_menu": {},
   "number_sections": true,
   "sideBar": true,
   "skip_h1_title": false,
   "title_cell": "Table of Contents",
   "title_sidebar": "Contents",
   "toc_cell": false,
   "toc_position": {},
   "toc_section_display": true,
   "toc_window_display": true
  }
 },
 "nbformat": 4,
 "nbformat_minor": 5
}
