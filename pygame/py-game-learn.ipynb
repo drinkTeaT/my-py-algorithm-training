{
 "cells": [
  {
   "cell_type": "markdown",
   "id": "compressed-catholic",
   "metadata": {},
   "source": [
    "<h5 id=\"1&nbsp;-首个示例\" data-toc-modified-id=\"1&nbsp;-首个示例-1\">首个示例</h5>\n",
    "<p>启动pygame<audio style=\"display: none;\" controls=\"controls\"></audio></p>\n",
    "<p><audio style=\"display: none;\" controls=\"controls\"></audio></p>\n",
    "<p><audio style=\"display: none;\" controls=\"controls\"></audio></p>\n",
    "<p><audio style=\"display: none;\" controls=\"controls\"></audio></p>"
   ]
  },
  {
   "cell_type": "code",
   "execution_count": 3,
   "id": "gentle-warning",
   "metadata": {
    "collapsed": true
   },
   "outputs": [
    {
     "ename": "SystemExit",
     "evalue": "",
     "output_type": "error",
     "traceback": [
      "An exception has occurred, use %tb to see the full traceback.\n",
      "\u001b[1;31mSystemExit\u001b[0m\n"
     ]
    }
   ],
   "source": [
    "import pygame,sys\n",
    "from pygame.locals import *\n",
    "\n",
    "pygame.init()\n",
    "DISPLAY = pygame.display.set_mode((400,300))\n",
    "pygame.display.set_caption('hello world')\n",
    "while True:\n",
    "    for event in pygame.event.get():\n",
    "        if event.type ==  QUIT:\n",
    "            pygame.quit()\n",
    "            sys.exit()\n",
    "        pygame.display.update()"
   ]
  },
  {
   "cell_type": "markdown",
   "id": "viral-coverage",
   "metadata": {},
   "source": [
    "<h5 id=\"2&nbsp;&nbsp;绘制矩形\" data-toc-modified-id=\"2&nbsp;&nbsp;绘制矩形-2\"><a id=\"2&nbsp;&nbsp;绘制矩形-2\" class=\"toc-mod-link\"></a><span class=\"toc-item-num\">2&nbsp; </span>矩形对象</h5>\n",
    "<p>有两种方式表示矩形区域。</p>\n",
    "<p>使用pygame.Rect对象。(左上角x坐标,左上角y坐标,矩形宽度，矩形高度)<span style=\"color: #296eaa;\">。</span><audio style=\"display: none;\" controls=\"controls\"></audio></p>\n",
    "<p><audio style=\"display: none;\" controls=\"controls\"></audio></p>\n",
    "<p><audio style=\"display: none;\" controls=\"controls\"></audio></p>\n",
    "<p><audio style=\"display: none;\" controls=\"controls\"></audio></p>"
   ]
  },
  {
   "cell_type": "code",
   "execution_count": 8,
   "id": "expired-screening",
   "metadata": {},
   "outputs": [
    {
     "name": "stdout",
     "output_type": "stream",
     "text": [
      "210\n",
      "110 , 170\n"
     ]
    }
   ],
   "source": [
    "import pygame\n",
    "spamRect = pygame.Rect(10,20,200,300)\n",
    "# 矩形右边框的坐标\n",
    "print(spamRect.right)\n",
    "# 中心坐标\n",
    "print(spamRect.centerx,',',spamRect.centery)"
   ]
  },
  {
   "cell_type": "markdown",
   "id": "circular-heater",
   "metadata": {},
   "source": [
    "<h5 id=\"基本绘制函数\" data-toc-modified-id=\"基本绘制函数-3\"><a id=\"基本绘制函数-3\" class=\"toc-mod-link\"></a><span class=\"toc-item-num\">3&nbsp;&nbsp;</span>基本绘制函数<audio style=\"display: none;\" controls=\"controls\"></audio></h5>\n",
    "<p><audio style=\"display: none;\" controls=\"controls\"></audio></p>"
   ]
  },
  {
   "cell_type": "code",
   "execution_count": 1,
   "id": "broken-swing",
   "metadata": {},
   "outputs": [
    {
     "name": "stdout",
     "output_type": "stream",
     "text": [
      "pygame 2.0.1 (SDL 2.0.14, Python 3.9.0)\n",
      "Hello from the pygame community. https://www.pygame.org/contribute.html\n"
     ]
    },
    {
     "ename": "SystemExit",
     "evalue": "",
     "output_type": "error",
     "traceback": [
      "An exception has occurred, use %tb to see the full traceback.\n",
      "\u001b[1;31mSystemExit\u001b[0m\n"
     ]
    },
    {
     "name": "stderr",
     "output_type": "stream",
     "text": [
      "d:\\software\\python\\lib\\site-packages\\IPython\\core\\interactiveshell.py:3445: UserWarning: To exit: use 'exit', 'quit', or Ctrl-D.\n",
      "  warn(\"To exit: use 'exit', 'quit', or Ctrl-D.\", stacklevel=1)\n"
     ]
    }
   ],
   "source": [
    "import pygame, sys\n",
    "from pygame.locals import *\n",
    "\n",
    "pygame.init()\n",
    "DISPLAY = pygame.display.set_mode((400, 300), 0, 32)\n",
    "pygame.display.set_caption('drawing')\n",
    "BLACK = (0, 0, 0)\n",
    "WHITE = (255, 255, 255)\n",
    "RED = (255, 0, 0)\n",
    "GREEN = (0, 255, 0)\n",
    "BLUE = (0, 0, 255)\n",
    "# 白底\n",
    "DISPLAY.fill(WHITE)\n",
    "# 多边形\n",
    "pygame.draw.polygon(DISPLAY, GREEN, ((146, 0), (291, 106), (236, 277), (56, 277), (0, 106)))\n",
    "# 线段\n",
    "pygame.draw.line(DISPLAY, BLUE, (60, 60), (120, 60), 4)\n",
    "# 圆\n",
    "pygame.draw.circle(DISPLAY, RED, (300, 50),10,0)\n",
    "# 矩形\n",
    "pygame.draw.rect(DISPLAY, RED, (200, 150, 100, 50))\n",
    "\n",
    "while True:\n",
    "    for event in pygame.event.get():\n",
    "        if event.type == QUIT:\n",
    "            pygame.quit()\n",
    "            sys.exit()\n",
    "        pygame.display.update()\n"
   ]
  },
  {
   "cell_type": "code",
   "execution_count": null,
   "id": "british-dodge",
   "metadata": {},
   "outputs": [],
   "source": []
  }
 ],
 "metadata": {
  "kernelspec": {
   "display_name": "Python 3",
   "language": "python",
   "name": "python3"
  },
  "language_info": {
   "codemirror_mode": {
    "name": "ipython",
    "version": 3
   },
   "file_extension": ".py",
   "mimetype": "text/x-python",
   "name": "python",
   "nbconvert_exporter": "python",
   "pygments_lexer": "ipython3",
   "version": "3.9.0"
  },
  "toc": {
   "base_numbering": 1,
   "nav_menu": {},
   "number_sections": true,
   "sideBar": true,
   "skip_h1_title": false,
   "title_cell": "Table of Contents",
   "title_sidebar": "Contents",
   "toc_cell": false,
   "toc_position": {},
   "toc_section_display": true,
   "toc_window_display": true
  }
 },
 "nbformat": 4,
 "nbformat_minor": 5
}
