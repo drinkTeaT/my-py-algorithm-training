{
 "cells": [
  {
   "cell_type": "markdown",
   "id": "hungry-comparison",
   "metadata": {},
   "source": [
    "<h5 id=\"1&nbsp;-首个示例\" data-toc-modified-id=\"1&nbsp;-首个示例-1\">首个示例</h5>\n",
    "<p>启动pygame<audio style=\"display: none;\" controls=\"controls\"></audio></p>\n",
    "<p><audio style=\"display: none;\" controls=\"controls\"></audio></p>\n",
    "<p><audio style=\"display: none;\" controls=\"controls\"></audio></p>\n",
    "<p><audio style=\"display: none;\" controls=\"controls\"></audio></p>"
   ]
  },
  {
   "cell_type": "code",
   "execution_count": 3,
   "id": "amateur-utilization",
   "metadata": {
    "collapsed": true
   },
   "outputs": [
    {
     "ename": "SystemExit",
     "evalue": "",
     "output_type": "error",
     "traceback": [
      "An exception has occurred, use %tb to see the full traceback.\n",
      "\u001b[1;31mSystemExit\u001b[0m\n"
     ]
    }
   ],
   "source": [
    "import pygame,sys\n",
    "from pygame.locals import *\n",
    "\n",
    "pygame.init()\n",
    "DISPLAY = pygame.display.set_mode((400,300))\n",
    "pygame.display.set_caption('hello world')\n",
    "while True:\n",
    "    for event in pygame.event.get():\n",
    "        if event.type ==  QUIT:\n",
    "            pygame.quit()\n",
    "            sys.exit()\n",
    "        pygame.display.update()"
   ]
  },
  {
   "cell_type": "markdown",
   "id": "labeled-carol",
   "metadata": {},
   "source": [
    "<h5 id=\"2&nbsp;&nbsp;绘制矩形\" data-toc-modified-id=\"2&nbsp;&nbsp;绘制矩形-2\"><a id=\"2&nbsp;&nbsp;绘制矩形-2\" class=\"toc-mod-link\"></a><span class=\"toc-item-num\">2&nbsp; </span>矩形对象</h5>\n",
    "<p>有两种方式表示矩形区域。</p>\n",
    "<p>使用pygame.Rect对象。(左上角x坐标,左上角y坐标,矩形宽度，矩形高度)<span style=\"color: #296eaa;\">。</span><audio style=\"display: none;\" controls=\"controls\"></audio></p>\n",
    "<p><audio style=\"display: none;\" controls=\"controls\"></audio></p>\n",
    "<p><audio style=\"display: none;\" controls=\"controls\"></audio></p>\n",
    "<p><audio style=\"display: none;\" controls=\"controls\"></audio></p>"
   ]
  },
  {
   "cell_type": "code",
   "execution_count": 8,
   "id": "finite-timothy",
   "metadata": {},
   "outputs": [
    {
     "name": "stdout",
     "output_type": "stream",
     "text": [
      "210\n",
      "110 , 170\n"
     ]
    }
   ],
   "source": [
    "import pygame\n",
    "spamRect = pygame.Rect(10,20,200,300)\n",
    "# 矩形右边框的坐标\n",
    "print(spamRect.right)\n",
    "# 中心坐标\n",
    "print(spamRect.centerx,',',spamRect.centery)"
   ]
  },
  {
   "cell_type": "markdown",
   "id": "champion-reggae",
   "metadata": {},
   "source": [
    "<h5 id=\"基本绘制函数\" data-toc-modified-id=\"基本绘制函数-3\"><a id=\"基本绘制函数-3\" class=\"toc-mod-link\"></a><span class=\"toc-item-num\">3&nbsp;&nbsp;</span>基本绘制函数<audio style=\"display: none;\" controls=\"controls\"></audio></h5>\n",
    "<p><audio style=\"display: none;\" controls=\"controls\"></audio></p>"
   ]
  },
  {
   "cell_type": "code",
   "execution_count": null,
   "id": "limiting-retention",
   "metadata": {},
   "outputs": [],
   "source": []
  }
 ],
 "metadata": {
  "kernelspec": {
   "display_name": "Python 3",
   "language": "python",
   "name": "python3"
  },
  "language_info": {
   "codemirror_mode": {
    "name": "ipython",
    "version": 3
   },
   "file_extension": ".py",
   "mimetype": "text/x-python",
   "name": "python",
   "nbconvert_exporter": "python",
   "pygments_lexer": "ipython3",
   "version": "3.9.0"
  },
  "toc": {
   "base_numbering": 1,
   "nav_menu": {},
   "number_sections": true,
   "sideBar": true,
   "skip_h1_title": false,
   "title_cell": "Table of Contents",
   "title_sidebar": "Contents",
   "toc_cell": false,
   "toc_position": {},
   "toc_section_display": true,
   "toc_window_display": true
  }
 },
 "nbformat": 4,
 "nbformat_minor": 5
}
