{
 "cells": [
  {
   "cell_type": "markdown",
   "id": "strange-township",
   "metadata": {},
   "source": [
    "<h5 id=\"界面需求\" data-toc-modified-id=\"界面需求-1\"><a id=\"界面需求-1\" class=\"toc-mod-link\"></a><span class=\"toc-item-num\">1&nbsp;&nbsp;</span>界面需求</h5>\n",
    "<h6 id=\"格子\" data-toc-modified-id=\"格子-1.1\"><a id=\"格子-1.1\" class=\"toc-mod-link\"></a><span class=\"toc-item-num\">1.1&nbsp;&nbsp;</span>格子</h6>\n",
    "<p>可以选择展示和屏蔽格子。</p>\n",
    "<h6 id=\"球\" data-toc-modified-id=\"球-1.2\"><a id=\"球-1.2\" class=\"toc-mod-link\"></a><span class=\"toc-item-num\">1.2&nbsp;&nbsp;</span>球</h6>\n",
    "<p>球的直线移动，如在对面球员的拦截圈内可被拦截。分为直塞和点对点传球。直塞球停在接球球员前方一格。</p>\n",
    "<h6 id=\"球员\" data-toc-modified-id=\"球员-1.3\"><a id=\"球员-1.3\" class=\"toc-mod-link\"></a><span class=\"toc-item-num\">1.3&nbsp;&nbsp;</span>球员</h6>\n",
    "<p>球员移动，二过一，手动控制都能额外使得一名球员往前移动。</p>\n",
    "<h6 id=\"鼠标事件\" data-toc-modified-id=\"鼠标事件-1.4\"><a id=\"鼠标事件-1.4\" class=\"toc-mod-link\"></a><span class=\"toc-item-num\">1.4&nbsp;&nbsp;</span>鼠标事件</h6>\n",
    "<p>监听鼠标点击的是哪个球员。</p>\n",
    "<h6 id=\"键盘事件\" data-toc-modified-id=\"键盘事件-1.5\"><a id=\"键盘事件-1.5\" class=\"toc-mod-link\"></a><span class=\"toc-item-num\">1.5&nbsp;&nbsp;</span>键盘事件</h6>\n",
    "<p>监听键盘按键，即快捷键。减少重复用鼠标点击。</p>\n",
    "<p><audio style=\"display: none;\" controls=\"controls\"></audio></p>\n",
    "<p><audio style=\"display: none;\" controls=\"controls\"></audio></p>"
   ]
  },
  {
   "cell_type": "markdown",
   "id": "convertible-navigation",
   "metadata": {},
   "source": [
    "<h5 id=\"核心算法\" data-toc-modified-id=\"核心算法-2\"><a id=\"核心算法-2\" class=\"toc-mod-link\"></a><span class=\"toc-item-num\">2&nbsp;&nbsp;</span>核心算法</h5>\n",
    "<h6 id=\"球员移动\" data-toc-modified-id=\"球员移动-2.1\"><a id=\"球员移动-2.1\" class=\"toc-mod-link\"></a><span class=\"toc-item-num\">2.1&nbsp;&nbsp;</span>球员移动</h6>\n",
    "<p>球员移动，二过一和手动控制都需要对球员的位置重新计算。</p>\n",
    "<h6 id=\"球的传递\" data-toc-modified-id=\"球的传递-2.2\"><a id=\"球的传递-2.2\" class=\"toc-mod-link\"></a><span class=\"toc-item-num\">2.2&nbsp;&nbsp;</span>球的传递</h6>\n",
    "<p>点对点和直塞。需判断是否在对面球员的拦截圈内。</p>\n",
    "<h6 id=\"进球判断\" data-toc-modified-id=\"进球判断-2.3\"><a id=\"进球判断-2.3\" class=\"toc-mod-link\"></a><span class=\"toc-item-num\">2.3&nbsp;&nbsp;</span>进球判断</h6>\n",
    "<p>能够快速将球传递至球门。直接跳过对手回合。算进球成功。</p>\n",
    "<h6 id=\"失败判断\" data-toc-modified-id=\"失败判断-2.4\"><a id=\"失败判断-2.4\" class=\"toc-mod-link\"></a><span class=\"toc-item-num\">2.4&nbsp;&nbsp;</span>失败判断</h6>\n",
    "<p>传球时被对面球员拦截，或持球时被对方抢球</p>\n",
    "<h6>随机场景生成</h6>\n",
    "<p>随机布局进攻场景</p>\n",
    "<p><audio style=\"display: none;\" controls=\"controls\"></audio></p>\n",
    "<p><audio style=\"display: none;\" controls=\"controls\"></audio></p>"
   ]
  },
  {
   "cell_type": "markdown",
   "id": "twenty-recognition",
   "metadata": {},
   "source": [
    "<h5>未来计划</h5>\n",
    "<h6>人机对战</h6>\n",
    "<p>能够让人同机器进行PK</p>\n",
    "<p><audio style=\"display: none;\" controls=\"controls\"></audio></p>"
   ]
  }
 ],
 "metadata": {
  "kernelspec": {
   "display_name": "Python 3",
   "language": "python",
   "name": "python3"
  },
  "language_info": {
   "codemirror_mode": {
    "name": "ipython",
    "version": 3
   },
   "file_extension": ".py",
   "mimetype": "text/x-python",
   "name": "python",
   "nbconvert_exporter": "python",
   "pygments_lexer": "ipython3",
   "version": "3.9.0"
  },
  "toc": {
   "base_numbering": 1,
   "nav_menu": {},
   "number_sections": true,
   "sideBar": true,
   "skip_h1_title": false,
   "title_cell": "Table of Contents",
   "title_sidebar": "Contents",
   "toc_cell": false,
   "toc_position": {},
   "toc_section_display": true,
   "toc_window_display": false
  }
 },
 "nbformat": 4,
 "nbformat_minor": 5
}
